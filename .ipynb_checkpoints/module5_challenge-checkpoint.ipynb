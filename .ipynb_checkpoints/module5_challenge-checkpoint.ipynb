{
 "cells": [
  {
   "cell_type": "code",
   "execution_count": 167,
   "id": "dbbf3e6c-3158-4da8-8b13-d88a3ef7c55b",
   "metadata": {},
   "outputs": [],
   "source": [
    "#set dependencies\n",
    "import pandas as pd\n",
    "from pathlib import Path\n",
    "import matplotlib.pyplot as plt\n",
    "import scipy.stats as st\n",
    "from scipy.stats import linregress\n",
    "import numpy as np\n",
    "\n",
    "\n",
    "%matplotlib inline"
   ]
  },
  {
   "cell_type": "code",
   "execution_count": 168,
   "id": "89b7eb08-2353-4c67-a6a9-ebc667688757",
   "metadata": {},
   "outputs": [],
   "source": [
    "#load files\n",
    "mouse_metadata_path = Path(\".\", \"Mouse_metadata.csv\")\n",
    "study_results_path = Path(\".\", \"Study_results.csv\")"
   ]
  },
  {
   "cell_type": "code",
   "execution_count": 169,
   "id": "c604218d-08bf-452f-a3a5-d1d5f7060324",
   "metadata": {},
   "outputs": [],
   "source": [
    "#read the info in the files\n",
    "mouse_metadata = pd.read_csv(mouse_metadata_path)\n",
    "study_results = pd.read_csv(study_results_path)"
   ]
  },
  {
   "cell_type": "code",
   "execution_count": 170,
   "id": "467d159f-6ccd-477b-9eb9-e9826a013d5c",
   "metadata": {},
   "outputs": [
    {
     "data": {
      "text/html": [
       "<div>\n",
       "<style scoped>\n",
       "    .dataframe tbody tr th:only-of-type {\n",
       "        vertical-align: middle;\n",
       "    }\n",
       "\n",
       "    .dataframe tbody tr th {\n",
       "        vertical-align: top;\n",
       "    }\n",
       "\n",
       "    .dataframe thead th {\n",
       "        text-align: right;\n",
       "    }\n",
       "</style>\n",
       "<table border=\"1\" class=\"dataframe\">\n",
       "  <thead>\n",
       "    <tr style=\"text-align: right;\">\n",
       "      <th></th>\n",
       "      <th>Mouse ID</th>\n",
       "      <th>Drug Regimen</th>\n",
       "      <th>Sex</th>\n",
       "      <th>Age_months</th>\n",
       "      <th>Weight (g)</th>\n",
       "      <th>Timepoint</th>\n",
       "      <th>Tumor Volume (mm3)</th>\n",
       "      <th>Metastatic Sites</th>\n",
       "    </tr>\n",
       "  </thead>\n",
       "  <tbody>\n",
       "    <tr>\n",
       "      <th>0</th>\n",
       "      <td>k403</td>\n",
       "      <td>Ramicane</td>\n",
       "      <td>Male</td>\n",
       "      <td>21</td>\n",
       "      <td>16</td>\n",
       "      <td>0</td>\n",
       "      <td>45.000000</td>\n",
       "      <td>0</td>\n",
       "    </tr>\n",
       "    <tr>\n",
       "      <th>1</th>\n",
       "      <td>k403</td>\n",
       "      <td>Ramicane</td>\n",
       "      <td>Male</td>\n",
       "      <td>21</td>\n",
       "      <td>16</td>\n",
       "      <td>5</td>\n",
       "      <td>38.825898</td>\n",
       "      <td>0</td>\n",
       "    </tr>\n",
       "    <tr>\n",
       "      <th>2</th>\n",
       "      <td>k403</td>\n",
       "      <td>Ramicane</td>\n",
       "      <td>Male</td>\n",
       "      <td>21</td>\n",
       "      <td>16</td>\n",
       "      <td>10</td>\n",
       "      <td>35.014271</td>\n",
       "      <td>1</td>\n",
       "    </tr>\n",
       "    <tr>\n",
       "      <th>3</th>\n",
       "      <td>k403</td>\n",
       "      <td>Ramicane</td>\n",
       "      <td>Male</td>\n",
       "      <td>21</td>\n",
       "      <td>16</td>\n",
       "      <td>15</td>\n",
       "      <td>34.223992</td>\n",
       "      <td>1</td>\n",
       "    </tr>\n",
       "    <tr>\n",
       "      <th>4</th>\n",
       "      <td>k403</td>\n",
       "      <td>Ramicane</td>\n",
       "      <td>Male</td>\n",
       "      <td>21</td>\n",
       "      <td>16</td>\n",
       "      <td>20</td>\n",
       "      <td>32.997729</td>\n",
       "      <td>1</td>\n",
       "    </tr>\n",
       "  </tbody>\n",
       "</table>\n",
       "</div>"
      ],
      "text/plain": [
       "  Mouse ID Drug Regimen   Sex  Age_months  Weight (g)  Timepoint  \\\n",
       "0     k403     Ramicane  Male          21          16          0   \n",
       "1     k403     Ramicane  Male          21          16          5   \n",
       "2     k403     Ramicane  Male          21          16         10   \n",
       "3     k403     Ramicane  Male          21          16         15   \n",
       "4     k403     Ramicane  Male          21          16         20   \n",
       "\n",
       "   Tumor Volume (mm3)  Metastatic Sites  \n",
       "0           45.000000                 0  \n",
       "1           38.825898                 0  \n",
       "2           35.014271                 1  \n",
       "3           34.223992                 1  \n",
       "4           32.997729                 1  "
      ]
     },
     "execution_count": 170,
     "metadata": {},
     "output_type": "execute_result"
    }
   ],
   "source": [
    "#merge the data in the two files\n",
    "study_data_merged = pd.merge(mouse_metadata, study_results, how=\"left\", on=\"Mouse ID\")\n",
    "study_data_merged.head()"
   ]
  },
  {
   "cell_type": "code",
   "execution_count": 171,
   "id": "36bbba96-bfe5-4f3e-a778-4d8fc493fd59",
   "metadata": {},
   "outputs": [],
   "source": [
    "#clean up the categories\n",
    "study_data_merged.rename(columns={'Age_months': 'Age in Months'}, inplace=True)"
   ]
  },
  {
   "cell_type": "code",
   "execution_count": 172,
   "id": "c201663a-ad3f-4fdb-891b-56973c7c3c63",
   "metadata": {},
   "outputs": [
    {
     "data": {
      "text/plain": [
       "249"
      ]
     },
     "execution_count": 172,
     "metadata": {},
     "output_type": "execute_result"
    }
   ],
   "source": [
    "#check the number of mice\n",
    "len(study_data_merged[\"Mouse ID\"].unique())"
   ]
  },
  {
   "cell_type": "code",
   "execution_count": 173,
   "id": "909a0a96-1359-46d3-bd18-1c67a35f28de",
   "metadata": {},
   "outputs": [
    {
     "data": {
      "text/plain": [
       "array(['g989'], dtype=object)"
      ]
     },
     "execution_count": 173,
     "metadata": {},
     "output_type": "execute_result"
    }
   ],
   "source": [
    "#check to see if there are duplicate mice in Mouse ID or Timepoint\n",
    "find_duplicates = study_data_merged.duplicated(subset=['Mouse ID', 'Timepoint'])\n",
    "duplicated_mice = study_data_merged.loc[find_duplicates, 'Mouse ID'].unique()\n",
    "duplicated_mice"
   ]
  },
  {
   "cell_type": "code",
   "execution_count": 174,
   "id": "5813a725-883b-4c28-8307-e326b3c32664",
   "metadata": {},
   "outputs": [
    {
     "data": {
      "text/html": [
       "<div>\n",
       "<style scoped>\n",
       "    .dataframe tbody tr th:only-of-type {\n",
       "        vertical-align: middle;\n",
       "    }\n",
       "\n",
       "    .dataframe tbody tr th {\n",
       "        vertical-align: top;\n",
       "    }\n",
       "\n",
       "    .dataframe thead th {\n",
       "        text-align: right;\n",
       "    }\n",
       "</style>\n",
       "<table border=\"1\" class=\"dataframe\">\n",
       "  <thead>\n",
       "    <tr style=\"text-align: right;\">\n",
       "      <th></th>\n",
       "      <th>Mouse ID</th>\n",
       "      <th>Drug Regimen</th>\n",
       "      <th>Sex</th>\n",
       "      <th>Age in Months</th>\n",
       "      <th>Weight (g)</th>\n",
       "      <th>Timepoint</th>\n",
       "      <th>Tumor Volume (mm3)</th>\n",
       "      <th>Metastatic Sites</th>\n",
       "    </tr>\n",
       "  </thead>\n",
       "  <tbody>\n",
       "    <tr>\n",
       "      <th>0</th>\n",
       "      <td>k403</td>\n",
       "      <td>Ramicane</td>\n",
       "      <td>Male</td>\n",
       "      <td>21</td>\n",
       "      <td>16</td>\n",
       "      <td>0</td>\n",
       "      <td>45.000000</td>\n",
       "      <td>0</td>\n",
       "    </tr>\n",
       "    <tr>\n",
       "      <th>1</th>\n",
       "      <td>k403</td>\n",
       "      <td>Ramicane</td>\n",
       "      <td>Male</td>\n",
       "      <td>21</td>\n",
       "      <td>16</td>\n",
       "      <td>5</td>\n",
       "      <td>38.825898</td>\n",
       "      <td>0</td>\n",
       "    </tr>\n",
       "    <tr>\n",
       "      <th>2</th>\n",
       "      <td>k403</td>\n",
       "      <td>Ramicane</td>\n",
       "      <td>Male</td>\n",
       "      <td>21</td>\n",
       "      <td>16</td>\n",
       "      <td>10</td>\n",
       "      <td>35.014271</td>\n",
       "      <td>1</td>\n",
       "    </tr>\n",
       "    <tr>\n",
       "      <th>3</th>\n",
       "      <td>k403</td>\n",
       "      <td>Ramicane</td>\n",
       "      <td>Male</td>\n",
       "      <td>21</td>\n",
       "      <td>16</td>\n",
       "      <td>15</td>\n",
       "      <td>34.223992</td>\n",
       "      <td>1</td>\n",
       "    </tr>\n",
       "    <tr>\n",
       "      <th>4</th>\n",
       "      <td>k403</td>\n",
       "      <td>Ramicane</td>\n",
       "      <td>Male</td>\n",
       "      <td>21</td>\n",
       "      <td>16</td>\n",
       "      <td>20</td>\n",
       "      <td>32.997729</td>\n",
       "      <td>1</td>\n",
       "    </tr>\n",
       "  </tbody>\n",
       "</table>\n",
       "</div>"
      ],
      "text/plain": [
       "  Mouse ID Drug Regimen   Sex  Age in Months  Weight (g)  Timepoint  \\\n",
       "0     k403     Ramicane  Male             21          16          0   \n",
       "1     k403     Ramicane  Male             21          16          5   \n",
       "2     k403     Ramicane  Male             21          16         10   \n",
       "3     k403     Ramicane  Male             21          16         15   \n",
       "4     k403     Ramicane  Male             21          16         20   \n",
       "\n",
       "   Tumor Volume (mm3)  Metastatic Sites  \n",
       "0           45.000000                 0  \n",
       "1           38.825898                 0  \n",
       "2           35.014271                 1  \n",
       "3           34.223992                 1  \n",
       "4           32.997729                 1  "
      ]
     },
     "execution_count": 174,
     "metadata": {},
     "output_type": "execute_result"
    }
   ],
   "source": [
    "#create a clean dataframe by getting rid of the duplicates\n",
    "clean_data = study_data_merged[study_data_merged['Mouse ID'].isin(duplicated_mice)==False]\n",
    "clean_data.head()"
   ]
  },
  {
   "cell_type": "code",
   "execution_count": 175,
   "id": "9a3f2ffd-4751-4b63-ae2c-67c9431dbea8",
   "metadata": {},
   "outputs": [
    {
     "data": {
      "text/plain": [
       "248"
      ]
     },
     "execution_count": 175,
     "metadata": {},
     "output_type": "execute_result"
    }
   ],
   "source": [
    "#recount the number of mice now that the data is clean\n",
    "len(clean_data[\"Mouse ID\"].unique())"
   ]
  },
  {
   "cell_type": "markdown",
   "id": "8dbc340a-f01a-4d09-a010-2c80c359d9d5",
   "metadata": {},
   "source": [
    "### Summary Statistics"
   ]
  },
  {
   "cell_type": "code",
   "execution_count": 176,
   "id": "ec96d3d8-037c-4fe3-8087-feb6654eff13",
   "metadata": {
    "scrolled": true
   },
   "outputs": [],
   "source": [
    "#generate a summary statistics table of mean, median, variance, standard deviation, and SEM of the tumor volume for each drug regimen\n",
    "#tumor_volume = study_data_merged['Tumor Volume (mm3)'].to_numpy()\n",
    "#mean_tumor_volume = np.mean(tumor_volume)\n",
    "#mean_tumor_volume\n",
    "mean = clean_data.groupby('Drug Regimen')['Tumor Volume (mm3)'].mean()\n",
    "median = clean_data.groupby('Drug Regimen')['Tumor Volume (mm3)'].median()\n",
    "variance = clean_data.groupby('Drug Regimen')['Tumor Volume (mm3)'].var()\n",
    "standard_deviation = clean_data.groupby('Drug Regimen')['Tumor Volume (mm3)'].std()\n",
    "SEM = clean_data.groupby('Drug Regimen')['Tumor Volume (mm3)'].sem()"
   ]
  },
  {
   "cell_type": "code",
   "execution_count": 177,
   "id": "57d8e011-290a-4044-b58d-41f1a2e5544b",
   "metadata": {},
   "outputs": [
    {
     "data": {
      "text/html": [
       "<div>\n",
       "<style scoped>\n",
       "    .dataframe tbody tr th:only-of-type {\n",
       "        vertical-align: middle;\n",
       "    }\n",
       "\n",
       "    .dataframe tbody tr th {\n",
       "        vertical-align: top;\n",
       "    }\n",
       "\n",
       "    .dataframe thead th {\n",
       "        text-align: right;\n",
       "    }\n",
       "</style>\n",
       "<table border=\"1\" class=\"dataframe\">\n",
       "  <thead>\n",
       "    <tr style=\"text-align: right;\">\n",
       "      <th></th>\n",
       "      <th>Mean Tumor Volume</th>\n",
       "      <th>Median Tumor Volume</th>\n",
       "      <th>Variance in Tumor Volume</th>\n",
       "      <th>Standard Devation of Tumor Volume</th>\n",
       "      <th>SEM of Tumor Volume</th>\n",
       "    </tr>\n",
       "    <tr>\n",
       "      <th>Drug Regimen</th>\n",
       "      <th></th>\n",
       "      <th></th>\n",
       "      <th></th>\n",
       "      <th></th>\n",
       "      <th></th>\n",
       "    </tr>\n",
       "  </thead>\n",
       "  <tbody>\n",
       "    <tr>\n",
       "      <th>Capomulin</th>\n",
       "      <td>40.675741</td>\n",
       "      <td>41.557809</td>\n",
       "      <td>24.947764</td>\n",
       "      <td>4.994774</td>\n",
       "      <td>0.329346</td>\n",
       "    </tr>\n",
       "    <tr>\n",
       "      <th>Ceftamin</th>\n",
       "      <td>52.591172</td>\n",
       "      <td>51.776157</td>\n",
       "      <td>39.290177</td>\n",
       "      <td>6.268188</td>\n",
       "      <td>0.469821</td>\n",
       "    </tr>\n",
       "    <tr>\n",
       "      <th>Infubinol</th>\n",
       "      <td>52.884795</td>\n",
       "      <td>51.820584</td>\n",
       "      <td>43.128684</td>\n",
       "      <td>6.567243</td>\n",
       "      <td>0.492236</td>\n",
       "    </tr>\n",
       "    <tr>\n",
       "      <th>Ketapril</th>\n",
       "      <td>55.235638</td>\n",
       "      <td>53.698743</td>\n",
       "      <td>68.553577</td>\n",
       "      <td>8.279709</td>\n",
       "      <td>0.603860</td>\n",
       "    </tr>\n",
       "    <tr>\n",
       "      <th>Naftisol</th>\n",
       "      <td>54.331565</td>\n",
       "      <td>52.509285</td>\n",
       "      <td>66.173479</td>\n",
       "      <td>8.134708</td>\n",
       "      <td>0.596466</td>\n",
       "    </tr>\n",
       "    <tr>\n",
       "      <th>Placebo</th>\n",
       "      <td>54.033581</td>\n",
       "      <td>52.288934</td>\n",
       "      <td>61.168083</td>\n",
       "      <td>7.821003</td>\n",
       "      <td>0.581331</td>\n",
       "    </tr>\n",
       "    <tr>\n",
       "      <th>Propriva</th>\n",
       "      <td>52.320930</td>\n",
       "      <td>50.446266</td>\n",
       "      <td>43.852013</td>\n",
       "      <td>6.622085</td>\n",
       "      <td>0.544332</td>\n",
       "    </tr>\n",
       "    <tr>\n",
       "      <th>Ramicane</th>\n",
       "      <td>40.216745</td>\n",
       "      <td>40.673236</td>\n",
       "      <td>23.486704</td>\n",
       "      <td>4.846308</td>\n",
       "      <td>0.320955</td>\n",
       "    </tr>\n",
       "    <tr>\n",
       "      <th>Stelasyn</th>\n",
       "      <td>54.233149</td>\n",
       "      <td>52.431737</td>\n",
       "      <td>59.450562</td>\n",
       "      <td>7.710419</td>\n",
       "      <td>0.573111</td>\n",
       "    </tr>\n",
       "    <tr>\n",
       "      <th>Zoniferol</th>\n",
       "      <td>53.236507</td>\n",
       "      <td>51.818479</td>\n",
       "      <td>48.533355</td>\n",
       "      <td>6.966589</td>\n",
       "      <td>0.516398</td>\n",
       "    </tr>\n",
       "  </tbody>\n",
       "</table>\n",
       "</div>"
      ],
      "text/plain": [
       "              Mean Tumor Volume  Median Tumor Volume  \\\n",
       "Drug Regimen                                           \n",
       "Capomulin             40.675741            41.557809   \n",
       "Ceftamin              52.591172            51.776157   \n",
       "Infubinol             52.884795            51.820584   \n",
       "Ketapril              55.235638            53.698743   \n",
       "Naftisol              54.331565            52.509285   \n",
       "Placebo               54.033581            52.288934   \n",
       "Propriva              52.320930            50.446266   \n",
       "Ramicane              40.216745            40.673236   \n",
       "Stelasyn              54.233149            52.431737   \n",
       "Zoniferol             53.236507            51.818479   \n",
       "\n",
       "              Variance in Tumor Volume  Standard Devation of Tumor Volume  \\\n",
       "Drug Regimen                                                                \n",
       "Capomulin                    24.947764                           4.994774   \n",
       "Ceftamin                     39.290177                           6.268188   \n",
       "Infubinol                    43.128684                           6.567243   \n",
       "Ketapril                     68.553577                           8.279709   \n",
       "Naftisol                     66.173479                           8.134708   \n",
       "Placebo                      61.168083                           7.821003   \n",
       "Propriva                     43.852013                           6.622085   \n",
       "Ramicane                     23.486704                           4.846308   \n",
       "Stelasyn                     59.450562                           7.710419   \n",
       "Zoniferol                    48.533355                           6.966589   \n",
       "\n",
       "              SEM of Tumor Volume  \n",
       "Drug Regimen                       \n",
       "Capomulin                0.329346  \n",
       "Ceftamin                 0.469821  \n",
       "Infubinol                0.492236  \n",
       "Ketapril                 0.603860  \n",
       "Naftisol                 0.596466  \n",
       "Placebo                  0.581331  \n",
       "Propriva                 0.544332  \n",
       "Ramicane                 0.320955  \n",
       "Stelasyn                 0.573111  \n",
       "Zoniferol                0.516398  "
      ]
     },
     "execution_count": 177,
     "metadata": {},
     "output_type": "execute_result"
    }
   ],
   "source": [
    "#assemble the results into a dataframe\n",
    "summary_table = pd.DataFrame(\n",
    "    {\n",
    "        \"Mean Tumor Volume\": mean,\n",
    "        \"Median Tumor Volume\": median,\n",
    "        \"Variance in Tumor Volume\": variance,\n",
    "        \"Standard Devation of Tumor Volume\": standard_deviation,\n",
    "        \"SEM of Tumor Volume\": SEM\n",
    "    }\n",
    ")\n",
    "summary_table"
   ]
  },
  {
   "cell_type": "markdown",
   "id": "ca055304-f1ae-4811-956c-36b33c6739a6",
   "metadata": {},
   "source": [
    "### Bar and Pie Charts"
   ]
  },
  {
   "cell_type": "code",
   "execution_count": 178,
   "id": "67c4427a-30a5-476c-b616-394919d351cb",
   "metadata": {},
   "outputs": [
    {
     "data": {
      "text/plain": [
       "Drug Regimen\n",
       "Capomulin    230\n",
       "Ramicane     228\n",
       "Ketapril     188\n",
       "Naftisol     186\n",
       "Zoniferol    182\n",
       "Placebo      181\n",
       "Stelasyn     181\n",
       "Infubinol    178\n",
       "Ceftamin     178\n",
       "Propriva     148\n",
       "Name: count, dtype: int64"
      ]
     },
     "execution_count": 178,
     "metadata": {},
     "output_type": "execute_result"
    }
   ],
   "source": [
    "#figure out the total number of rows (Mouse ID/Timepoints) for each drug regimen using Pandas.\n",
    "mouse_drug_count = clean_data['Drug Regimen'].value_counts()\n",
    "mouse_drug_count"
   ]
  },
  {
   "cell_type": "code",
   "execution_count": 179,
   "id": "ee8c8797-81e8-4102-b736-fb20f70b088a",
   "metadata": {},
   "outputs": [],
   "source": [
    "#now make a bar chart using the above .value_counts() information using Pandas\n",
    "#x-axis is Drug Regimen, y-axis is # of Mouse Timepoints\n",
    "mouse_drug_chart = mouse_drug_count.plot(kind='bar', figsize=(7,5))\n",
    "mouse_drug_chart.set_xlabel(\"Drug Regimen\")\n",
    "mouse_drug_chart.set_ylabel(\"# of Observed Mouse Timepoints\")\n",
    "\n",
    "plt.tight_layout()\n",
    "#plt.show()\n"
   ]
  },
  {
   "cell_type": "code",
   "execution_count": 180,
   "id": "5b452795-9f5d-466d-8f31-adb479915506",
   "metadata": {
    "scrolled": true
   },
   "outputs": [
    {
     "data": {
      "text/plain": [
       "Text(29.00000000000002, 0.5, '# of Observed Mouse Timepoints')"
      ]
     },
     "execution_count": 180,
     "metadata": {},
     "output_type": "execute_result"
    }
   ],
   "source": [
    "#make a bar chart showing the total number of rows (Mouse ID/Timepoints) for each drug regimen using PyPlot.\n",
    "drugs = [\"Capomulin\", \"Ramicane\", \"Ketapril\", \"Naftisol\", \"Zoniferol\", \"Placebo\", \"Stelasyn\", \"Infubinol\", \"Ceftamin\", \"Propriva\"]\n",
    "mouse_timepoints = [230, 228, 188, 186, 182, 181, 181, 178, 178, 148]\n",
    "x_axis = np.arange(len(mouse_timepoints))\n",
    "plt.bar(x_axis, mouse_timepoints, color=\"b\", align=\"center\")\n",
    "tick_locations = [value for value in x_axis]\n",
    "plt.xticks(tick_locations, drugs, rotation=90)\n",
    "#label the x and y axis and show the chart\n",
    "plt.xlabel(\"Drug Regimen\")\n",
    "plt.ylabel(\"# of Observed Mouse Timepoints\")\n",
    "#plt.show()\n"
   ]
  },
  {
   "cell_type": "code",
   "execution_count": 181,
   "id": "b57ab766-1671-4d5b-bdcf-4865176f5550",
   "metadata": {},
   "outputs": [
    {
     "data": {
      "text/plain": [
       "Sex\n",
       "Male      958\n",
       "Female    922\n",
       "Name: count, dtype: int64"
      ]
     },
     "execution_count": 181,
     "metadata": {},
     "output_type": "execute_result"
    }
   ],
   "source": [
    "#count the unique mice with their gender\n",
    "mouse_gender = clean_data[\"Sex\"].value_counts()\n",
    "mouse_gender"
   ]
  },
  {
   "cell_type": "code",
   "execution_count": 182,
   "id": "0f952611-4f3d-4e6b-aa44-982c42034b23",
   "metadata": {},
   "outputs": [
    {
     "data": {
      "text/plain": [
       "Text(29.00000000000002, 0.5, 'Count')"
      ]
     },
     "execution_count": 182,
     "metadata": {},
     "output_type": "execute_result"
    }
   ],
   "source": [
    "#make a pie chart, using Pandas, showing the distribution of unique female versus male mice used in the study\n",
    "#show the pie chart\n",
    "mouse_gender_chart = mouse_gender.plot(kind=\"pie\",autopct='%.1f%%')\n",
    "mouse_gender_chart.set_ylabel(\"Count\")\n",
    "#plt.show()"
   ]
  },
  {
   "cell_type": "code",
   "execution_count": 183,
   "id": "adee95e3-f9a3-4811-a325-c09c91892f9f",
   "metadata": {},
   "outputs": [
    {
     "data": {
      "text/plain": [
       "Text(189.2847222222222, 0.5, 'Count')"
      ]
     },
     "execution_count": 183,
     "metadata": {},
     "output_type": "execute_result"
    }
   ],
   "source": [
    "#make a pie chart, using PyPlot, showing the distribution of unique female versus male mice used in the study\n",
    "#show the pie chart\n",
    "labels = [\"Male\", \"Female\"]\n",
    "sizes = [958, 922]\n",
    "colors = [\"lightblue\", \"orange\"]\n",
    "plt.pie(sizes, labels=labels, colors=colors, autopct=\"%1.1f%%\")\n",
    "plt.ylabel(\"Count\")\n",
    "#plt.show()"
   ]
  },
  {
   "cell_type": "markdown",
   "id": "f2bf0573-56a2-4750-afa4-a964e0377d2f",
   "metadata": {},
   "source": [
    "### Quartiles, Outliers and Boxplots"
   ]
  },
  {
   "cell_type": "code",
   "execution_count": 184,
   "id": "5bf405cb-6b17-4721-b1ac-169682b208fb",
   "metadata": {},
   "outputs": [
    {
     "name": "stdout",
     "output_type": "stream",
     "text": [
      "    Mouse ID  Timepoint\n",
      "0       a203         45\n",
      "1       a251         45\n",
      "2       a262         45\n",
      "3       a275         45\n",
      "4       a366         30\n",
      "..       ...        ...\n",
      "243     z435         10\n",
      "244     z578         45\n",
      "245     z581         45\n",
      "246     z795         45\n",
      "247     z969         45\n",
      "\n",
      "[248 rows x 2 columns]\n"
     ]
    }
   ],
   "source": [
    "# Calculate the final tumor volume of each mouse across four of the treatment regimens:\n",
    "# Capomulin, Ramicane, Infubinol, and Ceftamin\n",
    "# Start by getting the last (greatest) timepoint for each mouse\n",
    "final_tumor = clean_data.groupby([\"Mouse ID\"])[\"Timepoint\"].max()\n",
    "final_tumor = final_tumor.reset_index()\n",
    "print(final_tumor)"
   ]
  },
  {
   "cell_type": "code",
   "execution_count": 185,
   "id": "d017adda-210d-4663-be91-22d861add32a",
   "metadata": {},
   "outputs": [
    {
     "name": "stdout",
     "output_type": "stream",
     "text": [
      "    Mouse ID  Timepoint Drug Regimen     Sex  Age in Months  Weight (g)  \\\n",
      "0       a203         45    Infubinol  Female             20          23   \n",
      "1       a251         45    Infubinol  Female             21          25   \n",
      "2       a262         45      Placebo  Female             17          29   \n",
      "3       a275         45     Ceftamin  Female             20          28   \n",
      "4       a366         30     Stelasyn  Female             16          29   \n",
      "..       ...        ...          ...     ...            ...         ...   \n",
      "243     z435         10     Propriva  Female             12          26   \n",
      "244     z578         45     Ramicane    Male             11          16   \n",
      "245     z581         45    Infubinol  Female             24          25   \n",
      "246     z795         45     Naftisol  Female             13          29   \n",
      "247     z969         45     Naftisol    Male              9          30   \n",
      "\n",
      "     Tumor Volume (mm3)  Metastatic Sites  \n",
      "0             67.973419                 2  \n",
      "1             65.525743                 1  \n",
      "2             70.717621                 4  \n",
      "3             62.999356                 3  \n",
      "4             63.440686                 1  \n",
      "..                  ...               ...  \n",
      "243           48.710661                 0  \n",
      "244           30.638696                 0  \n",
      "245           62.754451                 3  \n",
      "246           65.741070                 3  \n",
      "247           73.867845                 4  \n",
      "\n",
      "[248 rows x 8 columns]\n"
     ]
    }
   ],
   "source": [
    "# Merge this group df with the original DataFrame to get the tumor volume at the last timepoint\n",
    "merge_data_last_timepoint = final_tumor.merge(clean_data, on=['Mouse ID', 'Timepoint'], how=\"left\")\n",
    "print(merge_data_last_timepoint)"
   ]
  },
  {
   "cell_type": "code",
   "execution_count": 186,
   "id": "cb106191-42ff-4031-91eb-6cf2fdda2563",
   "metadata": {},
   "outputs": [
    {
     "name": "stdout",
     "output_type": "stream",
     "text": [
      "Capomulin's potential outliers: Series([], Name: Tumor Volume (mm3), dtype: float64)\n",
      "Ramicane's potential outliers: Series([], Name: Tumor Volume (mm3), dtype: float64)\n",
      "Infubinol's potential outliers: 31    36.321346\n",
      "Name: Tumor Volume (mm3), dtype: float64\n",
      "Ceftamin's potential outliers: Series([], Name: Tumor Volume (mm3), dtype: float64)\n"
     ]
    }
   ],
   "source": [
    "#put the drug treatments into a list for for loop\n",
    "drug_treatments = [\"Capomulin\", \"Ramicane\", \"Infubinol\", \"Ceftamin\"]\n",
    "\n",
    "#create an empty list to fill with tumor vol data (for plotting)\n",
    "tumor_volume_data = []\n",
    "\n",
    "#calculate the IQR and quantitatively determine if there are any potential outliers.\n",
    "for drug in drug_treatments:\n",
    "\n",
    "    #locate the rows which contain mice on each drug and get the tumor volumes\n",
    "    final_tumor_volume = merge_data_last_timepoint.loc[merge_data_last_timepoint[\"Drug Regimen\"] == drug, \"Tumor Volume (mm3)\"]\n",
    "\n",
    "    #add subset\n",
    "    tumor_volume_data.append(final_tumor_volume)\n",
    "\n",
    "    #determine outliers using upper and lower bounds\n",
    "    quartiles = final_tumor_volume.quantile([.25, .5, .75])\n",
    "    lowerq = quartiles[0.25]\n",
    "    upperq = quartiles[0.75]\n",
    "    iqr = upperq-lowerq\n",
    "    lower_bound = lowerq - (1.5*iqr)\n",
    "    upper_bound = upperq + (1.5*iqr)\n",
    "    outliers = final_tumor_volume.loc[(final_tumor_volume < lower_bound) | (final_tumor_volume > upper_bound)]\n",
    "    print(f\"{drug}'s potential outliers: {outliers}\")"
   ]
  },
  {
   "cell_type": "code",
   "execution_count": 187,
   "id": "9981f4f7-e54b-4ec5-a29c-e8240f51d469",
   "metadata": {},
   "outputs": [
    {
     "data": {
      "text/plain": [
       "Text(189.2847222222222, 0.5, 'Final Tumor Volume (mm3)')"
      ]
     },
     "execution_count": 187,
     "metadata": {},
     "output_type": "execute_result"
    }
   ],
   "source": [
    "#generate a boxplot that shows the final tumor volume for each drug treatment regimen\n",
    "show_outlier = dict(markerfacecolor='red', markersize=10)\n",
    "plt.boxplot(tumor_volume_data, tick_labels = drug_treatments, flierprops=show_outlier)\n",
    "plt.ylabel('Final Tumor Volume (mm3)')\n",
    "#plt.show()"
   ]
  },
  {
   "cell_type": "markdown",
   "id": "9a08d08b-7b79-4981-864a-dcef14336343",
   "metadata": {},
   "source": [
    "### Line and Scatter Plots"
   ]
  },
  {
   "cell_type": "code",
   "execution_count": 188,
   "id": "4ba9982a-1d7e-4baa-9eb3-f95c4f2323d9",
   "metadata": {},
   "outputs": [
    {
     "data": {
      "text/plain": [
       "Text(189.2847222222222, 0.5, 'Tumor Volume (mm3)')"
      ]
     },
     "execution_count": 188,
     "metadata": {},
     "output_type": "execute_result"
    }
   ],
   "source": [
    "#new data frame to locate capomulin data\n",
    "capomulin_data = clean_data.loc[clean_data[\"Drug Regimen\"] == \"Capomulin\"]\n",
    "\n",
    "#new datafrae to locate this one single mouse with ID l509\n",
    "single_mouse = capomulin_data.loc[capomulin_data[\"Mouse ID\"] == \"l509\"]\n",
    "\n",
    "#create a line plot of tumor volume vs. time point for a single mouse treated with Capomulin\n",
    "plt.plot(single_mouse['Timepoint'], single_mouse['Tumor Volume (mm3)'])\n",
    "plt.title(\"Capomulin Treatment of Mouse l509\")\n",
    "plt.xlabel(\"Timepoint (Days)\")\n",
    "plt.ylabel(\"Tumor Volume (mm3)\")\n",
    "#plt.show()"
   ]
  },
  {
   "cell_type": "code",
   "execution_count": 191,
   "id": "379709a1-b5f3-4ff1-b37f-6e5d90899ebd",
   "metadata": {},
   "outputs": [
    {
     "data": {
      "text/plain": [
       "Text(0, 0.5, 'Average Tumor Volume (mm3)')"
      ]
     },
     "execution_count": 191,
     "metadata": {},
     "output_type": "execute_result"
    }
   ],
   "source": [
    "#locate the capomulin data the same way as above\n",
    "capomulin_data = clean_data.loc[clean_data[\"Drug Regimen\"] == \"Capomulin\"]\n",
    "\n",
    "#group by the mouse weight data vs the tumor volume\n",
    "capomulin_average = capomulin_data.groupby([\"Mouse ID\"])[['Weight (g)', 'Tumor Volume (mm3)']].mean()\n",
    "\n",
    "#generate a scatterplot of mouse weight vs. the average tumor volume for just the Capomulin regimen\n",
    "plt.scatter(capomulin_average['Weight (g)'], capomulin_average['Tumor Volume (mm3)'], marker=\"o\", facecolors=\"lightblue\", edgecolors=\"black\", s=100, alpha=0.65)\n",
    "plt.title(\"Mouse Weight vs Avg Tumor Size in the Capomulin Treatment\")\n",
    "plt.xlabel(\"Weight (g)\")\n",
    "plt.ylabel(\"Average Tumor Volume (mm3)\")\n",
    "#plt.show()"
   ]
  },
  {
   "cell_type": "markdown",
   "id": "ca05cdee-9ad9-41e7-a7df-49f60e12bf8b",
   "metadata": {},
   "source": [
    "### Correlation and Regression"
   ]
  },
  {
   "cell_type": "code",
   "execution_count": 197,
   "id": "1ead9acc-eab2-470d-ba2f-3dd1450e7e72",
   "metadata": {},
   "outputs": [
    {
     "name": "stdout",
     "output_type": "stream",
     "text": [
      "The correlation between mouse weight and the average tumor volume is 0.84\n"
     ]
    },
    {
     "data": {
      "image/png": "[encoded data removed]",
      "text/plain": [
       "<Figure size 640x480 with 1 Axes>"
      ]
     },
     "metadata": {},
     "output_type": "display_data"
    }
   ],
   "source": [
    "# Calculate the correlation coefficient and a linear regression model\n",
    "# for mouse weight and average observed tumor volume for the entire Capomulin regimen\n",
    "correlation=round(st.pearsonr(capomulin_average['Weight (g)'], capomulin_average['Tumor Volume (mm3)'])[0],2)\n",
    "print(f\"The correlation between mouse weight and the average tumor volume is {correlation}\")\n",
    "model = st.linregress(capomulin_average['Weight (g)'], capomulin_average['Tumor Volume (mm3)'])\n",
    "\n",
    "y_values = capomulin_average['Weight (g)']*model[0]+model[1]\n",
    "plt.scatter(capomulin_average['Weight (g)'], capomulin_average['Tumor Volume (mm3)'], marker=\"o\", facecolors=\"lightblue\", edgecolors=\"black\", s=100, alpha=0.65)\n",
    "plt.plot(capomulin_average['Weight (g)'], y_values, color=\"orange\")\n",
    "plt.xlabel('Weight (g)')\n",
    "plt.ylabel('Average Tumor Volume (mm3)')\n",
    "plt.title('Correlation Between Mouse Weight and Avg. Tumor Volume in Capomulin Treatment')\n",
    "plt.show()"
   ]
  },
  {
   "cell_type": "code",
   "execution_count": null,
   "id": "455add76-3706-4017-aeba-fd0293bef617",
   "metadata": {},
   "outputs": [],
   "source": []
  }
 ],
 "metadata": {
  "kernelspec": {
   "display_name": "Python 3 (ipykernel)",
   "language": "python",
   "name": "python3"
  },
  "language_info": {
   "codemirror_mode": {
    "name": "ipython",
    "version": 3
   },
   "file_extension": ".py",
   "mimetype": "text/x-python",
   "name": "python",
   "nbconvert_exporter": "python",
   "pygments_lexer": "ipython3",
   "version": "3.10.15"
  }
 },
 "nbformat": 4,
 "nbformat_minor": 5
}
